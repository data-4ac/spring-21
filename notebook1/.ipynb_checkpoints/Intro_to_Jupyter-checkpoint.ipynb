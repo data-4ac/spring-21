{
 "cells": [
  {
   "cell_type": "markdown",
   "metadata": {
    "tags": [
     "ignore"
    ]
   },
   "source": [
    "## <font color =#d14d0f>Intro to Jupyter Notebooks and Python </font> <a id='sectionpy'></a>"
   ]
  },
  {
   "cell_type": "markdown",
   "metadata": {
    "tags": [
     "ignore"
    ]
   },
   "source": [
    "### **Jupyter Notebooks** <a id='subsectionjup'></a>\n",
    "\n",
    "Welcome to a Jupyter Notebook! **Notebooks** are documents that support interactive computing in which code is interwoven with text and visualizations, and more. "
   ]
  },
  {
   "cell_type": "markdown",
   "metadata": {},
   "source": [
    "### Notebook Structure\n",
    "\n",
    "A notebook is composed of rectangular sections called **cells**. There are 2 kinds of cells: markdown and code. A **markdown cell**, such as this one, contains text. A **code cell** contains code in Python, a programming language that we will be using for the remainder of this module. You can select any cell by clicking it once.\n",
    "\n",
    "To run a code cell once it's been selected, \n",
    "- Press Shift + Enter, or\n",
    "- Click the Run button in the toolbar at the top of the screen. \n",
    "\n",
    "If a code cell is running, you will see an asterisk (\\*) appear in the square brackets to the left of the cell. Once the cell has finished running, a number will replace the asterisk and any output from the code will appear under the cell.\n",
    "\n",
    "Let's try it! <font color = #d14d0f>**Run the cell below to see the output.**</font> Feel free to play around with the code -- try changing 'World' to your name."
   ]
  },
  {
   "cell_type": "code",
   "execution_count": null,
   "metadata": {
    "tags": [
     "ignore"
    ]
   },
   "outputs": [],
   "source": [
    "# Run the cell by using one of the methods we mentioned above!\n",
    "\n",
    "print(\"Hello World!\")"
   ]
  },
  {
   "cell_type": "markdown",
   "metadata": {
    "tags": [
     "ignore"
    ]
   },
   "source": [
    "You'll notice that many code cells contain lines of blue text that start with a `#`. These are *comments*. Comments often contain helpful information about what the code does or what you are supposed to do in the cell. The leading `#` tells the computer to ignore whatever text follows it."
   ]
  },
  {
   "cell_type": "markdown",
   "metadata": {
    "tags": [
     "ignore"
    ]
   },
   "source": [
    "#### Editing\n",
    "\n",
    "You can change the text in markdown cell by clicking it twice. Text in markdown cells is written in [**Markdown**](https://daringfireball.net/projects/markdown/), a formatting language for plain text, so you may see some funky symbols should you try and edit a markdown cell we've already written. Once you've made changes to a markdown cell, you can exit editing mode by running the cell the same way you'd run a code cell.\n",
    "\n",
    "<font color = #d14d0f>**Try double-clicking on this text to see what some Markdown formatting looks like.**</font>"
   ]
  },
  {
   "cell_type": "markdown",
   "metadata": {
    "tags": [
     "ignore"
    ]
   },
   "source": [
    "#### Adding and Deleting Cells\n",
    "\n",
    "Another feature of Jupyter Notebooks is the ability to add and delete cells, whether that be code or markdown. You can add cells by pressing the plus sign icon in the menu bar. This will add (by default) a code cell immediately below your current highlighted cell.\n",
    "\n",
    "To convert a cell to markdown, you can press 'Cell' in the menu bar, select 'Cell Type', and finally pick the desired option. This works the other way around too!\n",
    "\n",
    "To delete a cell, simply press the scissors icon in the menu bar. A common fear is deleting a cell that you needed -- but don't worry! This can be undone using 'Edit' > 'Undo Delete Cells'! If you accidentally delete content in a cell, you can use `Ctrl` + `Z` to undo."
   ]
  },
  {
   "cell_type": "markdown",
   "metadata": {
    "tags": [
     "ignore"
    ]
   },
   "source": [
    "#### Saving and Loading\n",
    "\n",
    "Your notebook will automatically save your text and code edits, as well as any graphs you generate or any calculations you make. However, you can also manually save the notebook in its current state by using `Ctrl` + `S`, clicking the floppy disk icon in the toolbar at the top of the page, or by going to the 'File' menu and selecting 'Save and Checkpoint'.\n",
    "\n",
    "Next time you open your notebook, it will look the same as when you last saved it!\n",
    "\n",
    "**Note:** When you load a notebook you will see all the outputs from your last saved session (such as graphs, computations, etc.) but you won't be able to use any of the variables you assigned in your code without running it again.\n",
    "\n",
    "An easy way to \"catch up\" to the last work you did is to highlight the cell you left off on and click \"Run all above\" under the Cell tab in the menu at the top of the screen."
   ]
  },
  {
   "cell_type": "markdown",
   "metadata": {
    "tags": [
     "ignore"
    ]
   },
   "source": [
    "#### Getting Started\n",
    "\n",
    "Now that we've covered our bases with regards to the platform we'll be working on for this assignment, let's load some **libraries** we need to explore the data we are working with. Python **libraries** are extra packages we can load to help use tools that are not otherwise available. These can include visualization libraries such as `matplotlib` or numerical tools like `numpy`. You can see how we load these libraries below:"
   ]
  },
  {
   "cell_type": "code",
   "execution_count": null,
   "metadata": {
    "tags": [
     "ignore"
    ]
   },
   "outputs": [],
   "source": [
    "from datascience import * # This loads tools from the datascience library\n",
    "import numpy as np # Loads numerical methods\n",
    "\n",
    "from otter import Notebook # This will allow us to export your responses as a pdf\n",
    "\n",
    "import matplotlib  # This loads some visualization tools\n",
    "%matplotlib inline\n",
    "import matplotlib.pyplot as plt\n",
    "plt.style.use('fivethirtyeight') # This selects a certain 'style' for our graphs\n",
    "\n",
    "import ipywidgets as widgets # Loads a widgets library that will allow for interactive learning"
   ]
  },
  {
   "cell_type": "markdown",
   "metadata": {
    "tags": [
     "ignore"
    ]
   },
   "source": [
    "Now that we've loaded some relevant libraries, let's go over some Python basics.\n",
    "\n",
    "### **Python Basics** <a id='subsectionpy'></a>"
   ]
  },
  {
   "cell_type": "markdown",
   "metadata": {
    "tags": [
     "ignore"
    ]
   },
   "source": [
    "**Python** is a programming language -- a way for us to communicate with the computer and give it instructions.\n",
    "\n",
    "Just like any language, Python has a set vocabulary made up of words it can understand, and a syntax which provides the rules for how to structure our commands and give instructions.\n",
    "\n",
    "#### Errors\n",
    "Errors in programming are common and totally okay! Don't be afraid when you see an error because more likely than not the solution lies in the error code itself! Let's see what an error looks like. <font color = #d14d0f>**Run the cell below to see the output.**</font>"
   ]
  },
  {
   "cell_type": "code",
   "execution_count": null,
   "metadata": {
    "tags": [
     "ignore"
    ]
   },
   "outputs": [],
   "source": [
    "print('This line is missing something.'"
   ]
  },
  {
   "cell_type": "markdown",
   "metadata": {
    "tags": [
     "ignore"
    ]
   },
   "source": [
    "The last line of the error message in the output attempts to tell you what went wrong. You should see a message saying \"SyntaxError: unexpected EOF while parsing.\" This means it expected a closing character to your code in this instance. <font color = #d14d0f>**Try adding a parentheses to end the statement and watch the error message disappear!**</font>"
   ]
  },
  {
   "cell_type": "markdown",
   "metadata": {
    "tags": [
     "ignore"
    ]
   },
   "source": [
    "#### Variables\n",
    "\n",
    "As we mentioned before, in this Jupyter Notebook you will be assigning data or figures to **variables**. You can even assign graph output or functions to variables, but that is out of scope for this assignment so don't worry about it! Variables are stored in a computer's memory and you can use it over and over again in future calculations!\n",
    "\n",
    "Sometimes, instead of trying to work with raw information all the time in a long calculation like `4 - 2 * (1 + 6 / 3)` you will want to store it as a **variable** for easy access in future calculations. <font color = #d14d0f>**Check out how we can use variables to our advantage below!**</font>"
   ]
  },
  {
   "cell_type": "code",
   "execution_count": null,
   "metadata": {},
   "outputs": [],
   "source": [
    "# Instead of performing this calculation over and over again ...\n",
    "4 - 2 * (1 + 6 / 3)"
   ]
  },
  {
   "cell_type": "code",
   "execution_count": null,
   "metadata": {},
   "outputs": [],
   "source": [
    "# Try assigning it to a variable for future use!\n",
    "y = 4 - 2 * (1 + 6 / 3)"
   ]
  },
  {
   "cell_type": "markdown",
   "metadata": {
    "tags": [
     "ignore"
    ]
   },
   "source": [
    "An assignment statement, such as `y = 4 - 2 * (1 + 6 / 3)` has three parts: on the left is the variable **name** (`y`), on the right is the variable's **value** (`4 - 2 * (1 + 6 / 3)`), and the equals sign in the middle tells the computer to assign the value to the name.\n",
    "\n",
    "You might have noticed that running that second cell did not output anything, however, we can access that value again and again in the future."
   ]
  },
  {
   "cell_type": "code",
   "execution_count": null,
   "metadata": {
    "tags": [
     "ignore"
    ]
   },
   "outputs": [],
   "source": [
    "# We can print the value as follows\n",
    "y"
   ]
  },
  {
   "cell_type": "code",
   "execution_count": null,
   "metadata": {
    "tags": [
     "ignore"
    ]
   },
   "outputs": [],
   "source": [
    "# We can also use it in other calculations now!\n",
    "y * 2"
   ]
  },
  {
   "cell_type": "markdown",
   "metadata": {
    "tags": [
     "ignore"
    ]
   },
   "source": [
    "<div class=\"alert alert-warning\">\n",
    "\n",
    "Does a section on tables need to be included? Maybe this is something that can be guided through in class.\n",
    "\n",
    "</div>\n",
    "\n",
    "#### Tables\n",
    "\n",
    "In most cases, when interacting with data you will be working with **tables**. In this section, we will cover how to examine and manipulate data using Python!\n",
    "\n",
    "**Tables** are the fundamental way we organize and display data. <font color = #d14d0f>**Run the cell below to load the data we will be working with!**</font>"
   ]
  },
  {
   "cell_type": "code",
   "execution_count": null,
   "metadata": {
    "tags": [
     "ignore"
    ]
   },
   "outputs": [],
   "source": [
    "# Below we see an assignment statement.\n",
    "# We are telling the computer to create a Table and read in some data.\n",
    "\n",
    "prisons = Table().read_table(\"./data/monthly_cdcr.csv\")\n",
    "\n",
    "# This next command will display the top 5 entries. You can change the number\n",
    "# to view a different amount of entries at time.\n",
    "prisons.show(5)"
   ]
  },
  {
   "cell_type": "markdown",
   "metadata": {
    "tags": [
     "ignore"
    ]
   },
   "source": [
    "This table is organized into **columns**, one for each category of information collected. You can also think about the table in terms of its rows, where each row represents all the information collected about a particular instance, in this case, different state prisons. By default only the first 10 rows are shown, but as you can see in the code we ran, we changed it to 5.\n",
    "\n",
    "**Table Attributes**\n",
    "\n",
    "Every table has **attributes** that give information about the table, such as the number of rows and the number of columns. Attributes you'll use frequently include `num_rows` and `num_columns`, which give the number of rows and columns in the table, respectively. These are accessed using something called **dot notation** which means we won't be using any parentheses like in our print statement (Hello World!) earlier."
   ]
  },
  {
   "cell_type": "code",
   "execution_count": null,
   "metadata": {
    "tags": [
     "ignore"
    ]
   },
   "outputs": [],
   "source": [
    "# Get the number of columns\n",
    "prisons.num_columns"
   ]
  },
  {
   "cell_type": "code",
   "execution_count": null,
   "metadata": {
    "tags": [
     "ignore"
    ]
   },
   "outputs": [],
   "source": [
    "# Get the number of rows\n",
    "prisons.num_rows"
   ]
  },
  {
   "cell_type": "markdown",
   "metadata": {
    "tags": [
     "include"
    ]
   },
   "source": [
    "<font color = #d14d0f>**QUESTION 1**:</font> Given the output of the cell above, how many state prisons are included in our data set?"
   ]
  },
  {
   "cell_type": "markdown",
   "metadata": {
    "tags": [
     "include"
    ]
   },
   "source": [
    "*Replace this text with your response!*"
   ]
  },
  {
   "cell_type": "markdown",
   "metadata": {
    "tags": [
     "ignore"
    ]
   },
   "source": [
    "In other situations, we will want to sort, filter, or group our data. In order to manipulate our data stored in a table, we will be using various table functions. These will be explained as we go through them as to not overwhelm you!\n",
    "\n",
    "Now that you have a basic grasp on Python and the kinds of information we'll be working with, we can move on to where our data came from and how to interact with it.\n",
    "\n",
    "Congrats on finishing the Jupyter Notebook and Python overview!\n",
    "\n"
   ]
  },
  {
   "cell_type": "markdown",
   "metadata": {},
   "source": [
    "-----\n",
    "\n",
    "<div class=\"alert alert-warning\">\n",
    "\n",
    "Not exactly sure where to place this section; in the moment it makes the most sense to put it after the jupyter/python overview. Since they'll first know what they're looking at, and then have an explanation as to why this is a powerful tool.\n",
    "\n",
    "Content focusing on in this section: notebook usage, open-source, open science and reproducibility.\n",
    "\n",
    "</div>\n",
    "\n",
    "### A Brief History\n",
    "The Jupyter Notebook is an interactive computational environment that supports over 40 different programming languages, but was first released as a web-based interface for IPython in 2011. Fernando Perez, a professor in the statistics department here at UC Berkeley, created IPython as a graduate student in 2001 and co-founded Project Jupyter in 2014. \n",
    "\n",
    "Though the Jupyter Notebook interface has been around for almost a decade, the first notebook interface, Mathematica, was released over 30 years ago in 1988. Other notebook interfaces have released since then, but none have gained as much traction as Jupyter Notebooks have. Starting in the early 2000s, open-source scientific tools were becoming more and more popular and with the widespread popularity of Jupyter, it's well on its way to becoming a standard for sharing research results."
   ]
  },
  {
   "cell_type": "markdown",
   "metadata": {},
   "source": [
    "### Why (Jupyter) Notebooks?\n",
    "Notebooks are used for *Literate programming*, a programming paradigm introduced by Donald Knuth in 1984, in which a programming language is accompanied with a documentation language, i.e. the computer program has an explanation in a natural language. This idea effectively treats software as works of literature so that humans can easily interpret the logic of the code, both for the writer and the reader. \n",
    "\n",
    "Jupyter leverages this idea and enables users to create and share documents that contain code, visualizations, narrative text, equations, and rich media. Notebooks are multipurpose and can be used in any discipline. The notebook is like a laboratory notebook, but for computing. Researchers can write code to work with their data while supplementing their methods with explanations, analysis, or hypotheses. Notebooks are also used in education, as students and learners can actively engage and interact with the material."
   ]
  },
  {
   "cell_type": "markdown",
   "metadata": {},
   "source": [
    "**Potential Question?: In your area of study/interest, how could you use Jupyter Notebooks? What are some advantages/drawbacks to using a notebook vs. other tools existing in your particular field?** (not sure how appropriately scoped this question is)"
   ]
  },
  {
   "cell_type": "markdown",
   "metadata": {},
   "source": []
  },
  {
   "cell_type": "markdown",
   "metadata": {},
   "source": [
    "### Notebooks in Practice\n",
    "\n",
    "The way notebooks are formatted encourages exploration, allowing users to iteratively update code and document the results. In use cases such as data exploration and communication, notebooks excel. Science (and computational work in general) has become quite sophisticated: models are built upon experiments are conducted on large swaths of data, methods and results are abstracted away into symbols, and papers are full of technical jargon. A static document like a paper might not be sufficient to both effectively communicate a new discovery and allow someone else to discover it for themselves. \n",
    "\n",
    "With proprietary software like Mathematica, users are supposed to trust the results returned and are unable to check the code. Jupyter fosters transparency and hence encourages reproducibility. Not only is the code behind the software is available for anyone to inspect or tinker with, but code in the notebooks can also be examined or re-run to reproduce any results. Theodore Gray, a member of Perez's group, said about notebooks, \"I think what they have is acceptance from the scientific community as a tool that is considered to be universal.\"\n"
   ]
  },
  {
   "cell_type": "markdown",
   "metadata": {},
   "source": [
    "----\n",
    "To add:\n",
    "- using notebooks at berkeley and beyond\n",
    "- blurb about how reproducibility in data science/research enables us to critically study existing work and the mechanisms behind the results"
   ]
  }
 ],
 "metadata": {
  "kernelspec": {
   "display_name": "Python 3",
   "language": "python",
   "name": "python3"
  },
  "language_info": {
   "codemirror_mode": {
    "name": "ipython",
    "version": 3
   },
   "file_extension": ".py",
   "mimetype": "text/x-python",
   "name": "python",
   "nbconvert_exporter": "python",
   "pygments_lexer": "ipython3",
   "version": "3.7.3"
  }
 },
 "nbformat": 4,
 "nbformat_minor": 4
}
